{
 "cells": [
  {
   "cell_type": "markdown",
   "metadata": {},
   "source": [
    "# Tweet Scrapper by tweet_id\n",
    "\n",
    "## Integrantes:\n",
    "\n",
    "* Del Villar, Javier\n",
    "* Otrino, Facundo Damián\n",
    "* Pistoya, Haydeé Soledad\n",
    "* Rojas, Mariano Arturo\n",
    "* Sorza, Andrés\n",
    "* Vaillard, Leandro Carlos\n",
    "\n",
    "## Cargamos Librerías"
   ]
  },
  {
   "cell_type": "code",
   "execution_count": null,
   "metadata": {},
   "outputs": [],
   "source": [
    "import json\n",
    "import pandas as pd\n",
    "import tweepy"
   ]
  },
  {
   "cell_type": "markdown",
   "metadata": {},
   "source": [
    "## Cargamos dataset\n",
    "\n",
    "El dataset contiene tweets de todos los idiomas y países sobre la pandemia COVID-19:"
   ]
  },
  {
   "cell_type": "code",
   "execution_count": null,
   "metadata": {},
   "outputs": [],
   "source": [
    "data = pd.read_csv('full_dataset.tsv.gz', sep = '\\t', compression = 'gzip')\n",
    "\n",
    "print(f'El dataset tiene {data.shape[0]} tweet IDs!')\n",
    "\n",
    "data.head()"
   ]
  },
  {
   "source": [
    "Filtramos el dataset por país (Argentina) y lenguaje (Español):"
   ],
   "cell_type": "markdown",
   "metadata": {}
  },
  {
   "cell_type": "code",
   "execution_count": null,
   "metadata": {},
   "outputs": [],
   "source": [
    "country_place = 'AR'\n",
    "\n",
    "lang = 'es'\n",
    "\n",
    "data = data[data['country_place'] == country_place]\n",
    "\n",
    "data = data[data['lang'] == lang]"
   ]
  },
  {
   "cell_type": "markdown",
   "metadata": {},
   "source": [
    "## Divido los tweet_ids en grupos de 100 tweet_ids"
   ]
  },
  {
   "cell_type": "code",
   "execution_count": null,
   "metadata": {},
   "outputs": [],
   "source": [
    "List_Splitter = (\n",
    "    lambda lst, sz: [lst[i : i + sz] for i in range(0, len(lst), sz)]\n",
    ")\n",
    "\n",
    "batch = List_Splitter(tweet_id_dataset['tweet_id'], 100)"
   ]
  },
  {
   "cell_type": "markdown",
   "metadata": {},
   "source": [
    "## Inicializo el Tweet Scrapper"
   ]
  },
  {
   "cell_type": "code",
   "execution_count": null,
   "metadata": {},
   "outputs": [],
   "source": [
    "consumer_key    = \n",
    "consumer_secret = \n",
    "access_key      = \n",
    "access_secret   = \n",
    "\n",
    "auth = tweepy.OAuthHandler(consumer_key, consumer_secret)\n",
    "\n",
    "auth.set_access_token(access_key, access_secret)\n",
    "\n",
    "api = tweepy.API(auth, wait_on_rate_limit = True)"
   ]
  },
  {
   "cell_type": "markdown",
   "metadata": {},
   "source": [
    "## Le alimentamos la lista de tweet_ids al scrapper"
   ]
  },
  {
   "cell_type": "code",
   "execution_count": null,
   "metadata": {},
   "outputs": [],
   "source": [
    "tweets_raw = pd.DataFrame()\n",
    "\n",
    "for tweet_ids in batch:\n",
    "    statuses = api.statuses_lookup(\n",
    "        tweet_ids.to_list(), tweet_mode='extended'\n",
    "    )\n",
    "\n",
    "    tweets_batch = pd.json_normalize(\n",
    "        [status._json for status in statuses], max_level=0\n",
    "    )\n",
    "\n",
    "    tweets_raw = tweets_raw.append(tweets_batch, ignore_index=True)"
   ]
  },
  {
   "cell_type": "markdown",
   "metadata": {},
   "source": [
    "## Dataset de tweets crudos"
   ]
  },
  {
   "cell_type": "code",
   "execution_count": null,
   "metadata": {},
   "outputs": [],
   "source": [
    "print(f'El dataset tiene {tweets.shape[0]} tweets!')\n",
    "\n",
    "tweets.head()"
   ]
  },
  {
   "source": [
    "## Eliminación de campos innecesarios para la investigación"
   ],
   "cell_type": "markdown",
   "metadata": {}
  },
  {
   "cell_type": "code",
   "execution_count": null,
   "metadata": {},
   "outputs": [],
   "source": [
    "tweets_dataset = pd.DataFrame()\n",
    "\n",
    "tweets_dataset['created_at'] = pd.to_datetime(tweets_raw['created_at'])\n",
    "\n",
    "tweets_dataset['month'] = tweets_dataset['created_at'].dt.strftime('%Y-%m')\n",
    "\n",
    "tweets_dataset['id'] = tweets_raw['id'].astype(str)\n",
    "\n",
    "tweets_dataset['full_text'] = tweets_raw['full_text']\n",
    "\n",
    "place = tweets_raw['place'].apply(pd.Series)\n",
    "\n",
    "tweets_dataset['place_name'] = place['name']"
   ]
  },
  {
   "source": [
    "## Dataset de tweets"
   ],
   "cell_type": "markdown",
   "metadata": {}
  },
  {
   "cell_type": "code",
   "execution_count": null,
   "metadata": {},
   "outputs": [],
   "source": [
    "print(f'El dataset tiene {tweets_dataset.shape[0]} tweets!')\n",
    "\n",
    "tweets_dataset.head()\n",
    "\n",
    "tweets_dataset.to_csv('tweets_dataset.csv')"
   ]
  }
 ],
 "metadata": {
  "kernelspec": {
   "display_name": "Python 3",
   "language": "python",
   "name": "python3"
  },
  "language_info": {
   "codemirror_mode": {
    "name": "ipython",
    "version": 3
   },
   "file_extension": ".py",
   "mimetype": "text/x-python",
   "name": "python",
   "nbconvert_exporter": "python",
   "pygments_lexer": "ipython3",
   "version": "3.8.5"
  }
 },
 "nbformat": 4,
 "nbformat_minor": 4
}