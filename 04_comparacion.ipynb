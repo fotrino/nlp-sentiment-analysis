{
 "metadata": {
  "language_info": {
   "codemirror_mode": {
    "name": "ipython",
    "version": 3
   },
   "file_extension": ".py",
   "mimetype": "text/x-python",
   "name": "python",
   "nbconvert_exporter": "python",
   "pygments_lexer": "ipython3",
   "version": "3.8.5"
  },
  "orig_nbformat": 2,
  "kernelspec": {
   "name": "python385jvsc74a57bd00e6cb150d6efb0b48145d2d46c63c113c07f0a08b4f0620f03726508814a037f",
   "display_name": "Python 3.8.5 64-bit ('cosas': venv)"
  }
 },
 "nbformat": 4,
 "nbformat_minor": 2,
 "cells": [
  {
   "cell_type": "code",
   "execution_count": 1,
   "metadata": {},
   "outputs": [],
   "source": [
    "import mca\n",
    "import pandas as pd\n",
    "import numpy as np"
   ]
  },
  {
   "cell_type": "code",
   "execution_count": 5,
   "metadata": {},
   "outputs": [
    {
     "output_type": "stream",
     "name": "stdout",
     "text": [
      "El dataset tiene 155399 tweets!\n"
     ]
    },
    {
     "output_type": "execute_result",
     "data": {
      "text/plain": [
       "   Unnamed: 0    month                                          full_text  \\\n",
       "0           0  2020-01  Hay alguna indicación sobre las precauciones q...   \n",
       "1           1  2020-02  en dos años ya nadie se va a acordar de estos ...   \n",
       "2           2  2020-02  Interesante artículo sobre el Coronavirus... h...   \n",
       "3           3  2020-02  Lo que hubiera sido el sketch del cuñado de ma...   \n",
       "4           4  2020-02  Quien le teme al Coronavirus ?? https://t.co/0...   \n",
       "\n",
       "                        place_name full_text_CE_clasif  \\\n",
       "0  Ciudad Autónoma de Buenos Aires                 neu   \n",
       "1  Ciudad Autónoma de Buenos Aires                 neg   \n",
       "2                            Choya                 neu   \n",
       "3                       Corrientes                 neg   \n",
       "4                      El Calafate                 neg   \n",
       "\n",
       "                                     full_text_clean  is_coronavirus  \\\n",
       "0     alguno indicación precaución tomar coronavirus            True   \n",
       "1  dos año nadie acordar chino infierno parasite ...            True   \n",
       "2                   interesante artículo coronavirus            True   \n",
       "3  ser sketch cuñado macri buscar publico coronav...            True   \n",
       "4                                  temer coronavirus            True   \n",
       "\n",
       "   is_Argentina  is_cuarentena  is_muerte  is_vacuna  is_casos  \\\n",
       "0         False          False      False      False     False   \n",
       "1         False          False      False      False     False   \n",
       "2         False          False      False      False     False   \n",
       "3         False          False      False      False     False   \n",
       "4         False          False      False      False     False   \n",
       "\n",
       "   is_quedateencasa  \n",
       "0             False  \n",
       "1             False  \n",
       "2             False  \n",
       "3             False  \n",
       "4             False  "
      ],
      "text/html": "<div>\n<style scoped>\n    .dataframe tbody tr th:only-of-type {\n        vertical-align: middle;\n    }\n\n    .dataframe tbody tr th {\n        vertical-align: top;\n    }\n\n    .dataframe thead th {\n        text-align: right;\n    }\n</style>\n<table border=\"1\" class=\"dataframe\">\n  <thead>\n    <tr style=\"text-align: right;\">\n      <th></th>\n      <th>Unnamed: 0</th>\n      <th>month</th>\n      <th>full_text</th>\n      <th>place_name</th>\n      <th>full_text_CE_clasif</th>\n      <th>full_text_clean</th>\n      <th>is_coronavirus</th>\n      <th>is_Argentina</th>\n      <th>is_cuarentena</th>\n      <th>is_muerte</th>\n      <th>is_vacuna</th>\n      <th>is_casos</th>\n      <th>is_quedateencasa</th>\n    </tr>\n  </thead>\n  <tbody>\n    <tr>\n      <th>0</th>\n      <td>0</td>\n      <td>2020-01</td>\n      <td>Hay alguna indicación sobre las precauciones q...</td>\n      <td>Ciudad Autónoma de Buenos Aires</td>\n      <td>neu</td>\n      <td>alguno indicación precaución tomar coronavirus</td>\n      <td>True</td>\n      <td>False</td>\n      <td>False</td>\n      <td>False</td>\n      <td>False</td>\n      <td>False</td>\n      <td>False</td>\n    </tr>\n    <tr>\n      <th>1</th>\n      <td>1</td>\n      <td>2020-02</td>\n      <td>en dos años ya nadie se va a acordar de estos ...</td>\n      <td>Ciudad Autónoma de Buenos Aires</td>\n      <td>neg</td>\n      <td>dos año nadie acordar chino infierno parasite ...</td>\n      <td>True</td>\n      <td>False</td>\n      <td>False</td>\n      <td>False</td>\n      <td>False</td>\n      <td>False</td>\n      <td>False</td>\n    </tr>\n    <tr>\n      <th>2</th>\n      <td>2</td>\n      <td>2020-02</td>\n      <td>Interesante artículo sobre el Coronavirus... h...</td>\n      <td>Choya</td>\n      <td>neu</td>\n      <td>interesante artículo coronavirus</td>\n      <td>True</td>\n      <td>False</td>\n      <td>False</td>\n      <td>False</td>\n      <td>False</td>\n      <td>False</td>\n      <td>False</td>\n    </tr>\n    <tr>\n      <th>3</th>\n      <td>3</td>\n      <td>2020-02</td>\n      <td>Lo que hubiera sido el sketch del cuñado de ma...</td>\n      <td>Corrientes</td>\n      <td>neg</td>\n      <td>ser sketch cuñado macri buscar publico coronav...</td>\n      <td>True</td>\n      <td>False</td>\n      <td>False</td>\n      <td>False</td>\n      <td>False</td>\n      <td>False</td>\n      <td>False</td>\n    </tr>\n    <tr>\n      <th>4</th>\n      <td>4</td>\n      <td>2020-02</td>\n      <td>Quien le teme al Coronavirus ?? https://t.co/0...</td>\n      <td>El Calafate</td>\n      <td>neg</td>\n      <td>temer coronavirus</td>\n      <td>True</td>\n      <td>False</td>\n      <td>False</td>\n      <td>False</td>\n      <td>False</td>\n      <td>False</td>\n      <td>False</td>\n    </tr>\n  </tbody>\n</table>\n</div>"
     },
     "metadata": {},
     "execution_count": 5
    }
   ],
   "source": [
    "data = pd.read_csv('analyzed_tweets.csv')\n",
    "\n",
    "print(f'El dataset tiene {data.shape[0]} tweets!')\n",
    "\n",
    "data.head()"
   ]
  },
  {
   "cell_type": "code",
   "execution_count": 6,
   "metadata": {},
   "outputs": [
    {
     "output_type": "execute_result",
     "data": {
      "text/plain": [
       "   is_coronavirus  is_Argentina  is_cuarentena  is_muerte  is_vacuna  \\\n",
       "0            True         False          False      False      False   \n",
       "1            True         False          False      False      False   \n",
       "2            True         False          False      False      False   \n",
       "3            True         False          False      False      False   \n",
       "4            True         False          False      False      False   \n",
       "\n",
       "   is_casos  is_quedateencasa full_text_CE_clasif  \n",
       "0     False             False                 neu  \n",
       "1     False             False                 neg  \n",
       "2     False             False                 neu  \n",
       "3     False             False                 neg  \n",
       "4     False             False                 neg  "
      ],
      "text/html": "<div>\n<style scoped>\n    .dataframe tbody tr th:only-of-type {\n        vertical-align: middle;\n    }\n\n    .dataframe tbody tr th {\n        vertical-align: top;\n    }\n\n    .dataframe thead th {\n        text-align: right;\n    }\n</style>\n<table border=\"1\" class=\"dataframe\">\n  <thead>\n    <tr style=\"text-align: right;\">\n      <th></th>\n      <th>is_coronavirus</th>\n      <th>is_Argentina</th>\n      <th>is_cuarentena</th>\n      <th>is_muerte</th>\n      <th>is_vacuna</th>\n      <th>is_casos</th>\n      <th>is_quedateencasa</th>\n      <th>full_text_CE_clasif</th>\n    </tr>\n  </thead>\n  <tbody>\n    <tr>\n      <th>0</th>\n      <td>True</td>\n      <td>False</td>\n      <td>False</td>\n      <td>False</td>\n      <td>False</td>\n      <td>False</td>\n      <td>False</td>\n      <td>neu</td>\n    </tr>\n    <tr>\n      <th>1</th>\n      <td>True</td>\n      <td>False</td>\n      <td>False</td>\n      <td>False</td>\n      <td>False</td>\n      <td>False</td>\n      <td>False</td>\n      <td>neg</td>\n    </tr>\n    <tr>\n      <th>2</th>\n      <td>True</td>\n      <td>False</td>\n      <td>False</td>\n      <td>False</td>\n      <td>False</td>\n      <td>False</td>\n      <td>False</td>\n      <td>neu</td>\n    </tr>\n    <tr>\n      <th>3</th>\n      <td>True</td>\n      <td>False</td>\n      <td>False</td>\n      <td>False</td>\n      <td>False</td>\n      <td>False</td>\n      <td>False</td>\n      <td>neg</td>\n    </tr>\n    <tr>\n      <th>4</th>\n      <td>True</td>\n      <td>False</td>\n      <td>False</td>\n      <td>False</td>\n      <td>False</td>\n      <td>False</td>\n      <td>False</td>\n      <td>neg</td>\n    </tr>\n  </tbody>\n</table>\n</div>"
     },
     "metadata": {},
     "execution_count": 6
    }
   ],
   "source": [
    "data = data[['is_coronavirus', 'is_Argentina', 'is_cuarentena', 'is_muerte', 'is_vacuna', 'is_casos', 'is_quedateencasa', 'full_text_CE_clasif']]\n",
    "data.head()"
   ]
  },
  {
   "cell_type": "code",
   "execution_count": null,
   "metadata": {},
   "outputs": [],
   "source": []
  }
 ]
}